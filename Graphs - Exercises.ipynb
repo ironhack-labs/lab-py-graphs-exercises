{
 "cells": [
  {
   "cell_type": "markdown",
   "metadata": {},
   "source": [
    "# LAB | PY Graphs Exercises\n"
   ]
  },
  {
   "cell_type": "markdown",
   "metadata": {},
   "source": [
    "\n",
    "## Overview\n"
   ]
  },
  {
   "cell_type": "markdown",
   "metadata": {},
   "source": [
    "\n",
    "This exercise notebook will help you practice Graphs operations in Python. You will write programs that implement various Graphs functionalities, enhancing your understanding of this important data structure.\n"
   ]
  },
  {
   "cell_type": "markdown",
   "metadata": {},
   "source": [
    "\n",
    "## Instructions\n"
   ]
  },
  {
   "cell_type": "code",
   "execution_count": 95,
   "metadata": {},
   "outputs": [],
   "source": [
    "\n",
    "class Graph:\n",
    "    def __init__(self):\n",
    "        self.graph = {}\n",
    "\n",
    "    def add_vertex(self, vertex):\n",
    "        if vertex not in self.graph:\n",
    "            self.graph[vertex] = []\n",
    "\n",
    "    def remove_vertex(self, vertex):\n",
    "        if vertex in self.graph:\n",
    "            del self.graph[vertex]\n",
    "            for v in self.graph:\n",
    "                if vertex in self.graph[v]:\n",
    "                    self.graph[v].remove(vertex)\n",
    "\n",
    "    def add_edge(self, vertex1, vertex2):\n",
    "        if vertex1 in self.graph and vertex2 in self.graph:\n",
    "            self.graph[vertex1].append(vertex2)\n",
    "            self.graph[vertex2].append(vertex1)  # For undirected graph\n",
    "\n",
    "    def remove_edge(self, vertex1, vertex2):\n",
    "        if vertex1 in self.graph and vertex2 in self.graph:\n",
    "            self.graph[vertex1].remove(vertex2)\n",
    "            self.graph[vertex2].remove(vertex1)  # For undirected graph\n",
    "\n",
    "    def visualize_text(self):\n",
    "        for vertex in self.graph:\n",
    "            neighbors = \", \".join(map(str, self.graph[vertex]))  \n",
    "            print(f\"{vertex}: [{neighbors}]\")  \n",
    "\n",
    "    def dfs(self, start_vertex):\n",
    "        visited = set()\n",
    "        stack = [start_vertex]\n",
    "        \n",
    "        while stack:\n",
    "            vertex = stack.pop()\n",
    "\n",
    "            if vertex not in visited:\n",
    "                visited.add(vertex)\n",
    "                print(vertex)\n",
    "\n",
    "                for neighbor in self.graph[vertex]:\n",
    "                    stack.append(neighbor)\n",
    "\n",
    "    def bfs(self, start_vertex):\n",
    "        visited = set()\n",
    "        queue = [start_vertex]\n",
    "        \n",
    "        while queue:\n",
    "            vertex = queue.pop(0)\n",
    "\n",
    "            if vertex not in visited:\n",
    "                visited.add(vertex)\n",
    "                print(vertex)\n",
    "\n",
    "                for neighbor in self.graph[vertex]:\n",
    "                    queue.append(neighbor)\n",
    "\n",
    "    def has_circle(self):\n",
    "        visited = set()\n",
    "\n",
    "        for vertex in self.graph:\n",
    "            if vertex not in visited:\n",
    "                if self._has_circle_recursive(vertex, visited, -1):\n",
    "                    return True\n",
    "        return False\n",
    "    \n",
    "    def _has_circle_recursive(self, vertex, visited, parent):\n",
    "        visited.add(vertex)\n",
    "\n",
    "        for neighbor in self.graph[vertex]:\n",
    "            if neighbor not in visited:\n",
    "                if self._has_circle_recursive(neighbor, visited, vertex):\n",
    "                    return True\n",
    "            elif neighbor != parent:\n",
    "                return True\n",
    "        return False    \n",
    "\n",
    "    def to_matrix(self):\n",
    "        max_vertex = 0\n",
    "        for vertex in self.graph:\n",
    "            max_vertex = max(max_vertex, vertex)\n",
    "            for neighbor in self.graph[vertex]:\n",
    "                max_vertex = max(max_vertex, neighbor)\n",
    "\n",
    "        matrix = GraphMatrix(max_vertex + 1)  \n",
    "\n",
    "        for vertex in self.graph:\n",
    "            for neighbor in self.graph[vertex]:\n",
    "                matrix.add_edge(vertex, neighbor)\n",
    "\n",
    "        return matrix\n",
    "    \n",
    "    from collections import deque\n",
    "\n"
   ]
  },
  {
   "cell_type": "markdown",
   "metadata": {},
   "source": [
    "\n",
    "\n",
    "- Complete each exercise by writing the appropriate Python code.\n",
    "- Test your code to ensure it behaves as expected.\n"
   ]
  },
  {
   "cell_type": "markdown",
   "metadata": {},
   "source": [
    "## Exercise 1. **Depth First Search (DFS) Traversal**\n",
    "    - Write a program to perform DFS traversal on a graph.\n"
   ]
  },
  {
   "cell_type": "markdown",
   "metadata": {},
   "source": [
    "\n",
    "```python\n",
    "Input Graph:\n",
    "    A -- B -- C\n",
    "    |\n",
    "    D\n",
    "Starting Node: A\n",
    "Output: A B C D (or any valid DFS order)\n",
    "```\n"
   ]
  },
  {
   "cell_type": "code",
   "execution_count": 96,
   "metadata": {},
   "outputs": [
    {
     "name": "stdout",
     "output_type": "stream",
     "text": [
      "A: [B, D]\n",
      "B: [A, C]\n",
      "C: [B]\n",
      "D: [A]\n",
      "DFS : \n",
      "A\n",
      "D\n",
      "B\n",
      "C\n"
     ]
    }
   ],
   "source": [
    "\n",
    "# Insert your code HERE\n",
    "\n",
    "my_g = Graph()\n",
    "vertexes = \"ABCD\"\n",
    "for v in vertexes:\n",
    "    my_g.add_vertex(v)\n",
    "\n",
    "my_g.add_edge(\"A\", \"B\")\n",
    "my_g.add_edge(\"B\", \"C\")\n",
    "my_g.add_edge(\"A\", \"D\")\n",
    "\n",
    "my_g.visualize_text()\n",
    "\n",
    "print(\"DFS : \")\n",
    "my_g.dfs(\"A\")"
   ]
  },
  {
   "cell_type": "markdown",
   "metadata": {},
   "source": [
    "## Exercise 2. **Breadth First Search (BFS) Traversal**\n",
    "    - Implement BFS traversal for the graph.\n"
   ]
  },
  {
   "cell_type": "markdown",
   "metadata": {},
   "source": [
    "\n",
    "```python\n",
    "Input Graph:\n",
    "    A -- B -- C\n",
    "    |\n",
    "    D\n",
    "Starting Node: A\n",
    "Output: A B D C (or any valid BFS order)\n",
    "```\n"
   ]
  },
  {
   "cell_type": "code",
   "execution_count": 97,
   "metadata": {},
   "outputs": [
    {
     "name": "stdout",
     "output_type": "stream",
     "text": [
      "BFS:\n",
      "A\n",
      "B\n",
      "D\n",
      "C\n"
     ]
    }
   ],
   "source": [
    "\n",
    "# Insert your code HERE\n",
    "print(\"BFS:\")\n",
    "my_g.bfs(\"A\")\n",
    "# Insert your code HERE\n"
   ]
  },
  {
   "cell_type": "markdown",
   "metadata": {},
   "source": [
    "\n",
    "## Exercise 3. **Detect Cycle in an Undirected Graph**\n",
    "    - Write a function to detect if there is a cycle in an undirected graph.\n"
   ]
  },
  {
   "cell_type": "markdown",
   "metadata": {},
   "source": [
    "\n",
    "```python\n",
    "Input Graph with Cycle:\n",
    "    A -- B -- C\n",
    "            |\n",
    "            D\n",
    "\n",
    "Output: True (Cycle exists)\n",
    "```\n"
   ]
  },
  {
   "cell_type": "code",
   "execution_count": 98,
   "metadata": {},
   "outputs": [
    {
     "name": "stdout",
     "output_type": "stream",
     "text": [
      "A: [B, D]\n",
      "B: [A, C]\n",
      "C: [B]\n",
      "D: [A]\n"
     ]
    },
    {
     "data": {
      "text/plain": [
       "False"
      ]
     },
     "execution_count": 98,
     "metadata": {},
     "output_type": "execute_result"
    }
   ],
   "source": [
    "\n",
    "# my_g.add_edge(\"C\", \"D\")\n",
    "my_g.visualize_text()\n",
    "my_g.has_circle()"
   ]
  },
  {
   "cell_type": "code",
   "execution_count": 99,
   "metadata": {},
   "outputs": [
    {
     "data": {
      "text/plain": [
       "True"
      ]
     },
     "execution_count": 99,
     "metadata": {},
     "output_type": "execute_result"
    }
   ],
   "source": [
    "my_g.add_edge(\"C\", \"D\")\n",
    "my_g.has_circle()"
   ]
  },
  {
   "cell_type": "markdown",
   "metadata": {},
   "source": [
    "\n",
    "## Exercise 4. **Find Shortest Path in an Unweighted Graph**\n",
    "    - Implement functionality to find the shortest path from one node to another in an unweighted graph using BFS.\n"
   ]
  },
  {
   "cell_type": "markdown",
   "metadata": {},
   "source": [
    "\n",
    "```python\n",
    "Input Graph:\n",
    "    A -- B -- C\n",
    "    |\n",
    "    D\n",
    "\n",
    "Start Node: A, End Node: C\n",
    "Output: Shortest Path Length = 2 (A -> B -> C)\n",
    "```\n"
   ]
  },
  {
   "cell_type": "code",
   "execution_count": 105,
   "metadata": {},
   "outputs": [
    {
     "data": {
      "text/plain": [
       "['A', 'B', 'C']"
      ]
     },
     "execution_count": 105,
     "metadata": {},
     "output_type": "execute_result"
    }
   ],
   "source": [
    "from collections import deque\n",
    "\n",
    "def bfs_shortest_path(graph_obj, start, target):\n",
    "    queue = deque([(start, [start])])  \n",
    "    visited = set()\n",
    "    \n",
    "    while queue:\n",
    "        vertex, path = queue.popleft()\n",
    "        \n",
    "        if vertex == target:\n",
    "            return path  \n",
    "\n",
    "        if vertex not in visited:\n",
    "            visited.add(vertex)\n",
    "            for neighbor in graph_obj.graph[vertex]:\n",
    "                queue.append((neighbor, path + [neighbor]))  \n",
    "\n",
    "    return None \n",
    "\n",
    "\n",
    "bfs_shortest_path(my_g, \"A\", \"C\")\n",
    "# Insert your code HERE\n"
   ]
  },
  {
   "cell_type": "markdown",
   "metadata": {},
   "source": [
    "\n",
    "## Exercise 5. **Check if Graph is Bipartite**\n",
    "    - Write a program to check if the given graph is bipartite.\n"
   ]
  },
  {
   "cell_type": "markdown",
   "metadata": {},
   "source": [
    "\n",
    "```python\n",
    "Input Graph:\n",
    "    A -- B\n",
    "    |\n",
    "    C -- D\n",
    "\n",
    "Output: True (Graph is bipartite)\n",
    "```\n"
   ]
  },
  {
   "cell_type": "code",
   "execution_count": 101,
   "metadata": {},
   "outputs": [],
   "source": [
    "\n",
    "# Insert your code HERE\n"
   ]
  },
  {
   "cell_type": "markdown",
   "metadata": {},
   "source": [
    "\n",
    "### Exercise Completion\n"
   ]
  },
  {
   "cell_type": "markdown",
   "metadata": {},
   "source": [
    "\n",
    "\n",
    "Once you have completed all exercises:\n",
    "\n",
    "- Review your solutions.\n",
    "- Ensure your code is well-documented with comments explaining your logic.\n",
    "- Save your notebook for submission or further review.\n",
    "\n"
   ]
  },
  {
   "cell_type": "markdown",
   "metadata": {},
   "source": [
    "\n",
    "Happy coding! Enjoy practicing Graphs in Python!\n"
   ]
  }
 ],
 "metadata": {
  "kernelspec": {
   "display_name": "Python 3",
   "language": "python",
   "name": "python3"
  },
  "language_info": {
   "codemirror_mode": {
    "name": "ipython",
    "version": 3
   },
   "file_extension": ".py",
   "mimetype": "text/x-python",
   "name": "python",
   "nbconvert_exporter": "python",
   "pygments_lexer": "ipython3",
   "version": "3.9.6"
  }
 },
 "nbformat": 4,
 "nbformat_minor": 2
}
